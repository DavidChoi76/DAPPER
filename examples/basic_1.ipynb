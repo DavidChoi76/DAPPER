{
 "cells": [
  {
   "cell_type": "markdown",
   "id": "ab90e68c",
   "metadata": {},
   "source": [
    "## Illustrate usage of DAPPER to (interactively) run a synthetic (\"twin\") experiment."
   ]
  },
  {
   "cell_type": "markdown",
   "id": "cb836bf8",
   "metadata": {},
   "source": [
    "NB: This notebook has been adapted for Google Colab.\n",
    "In particular, running on Colab first requires installing DAPPER."
   ]
  },
  {
   "cell_type": "code",
   "execution_count": null,
   "id": "b42ac592",
   "metadata": {},
   "outputs": [],
   "source": [
    "!python -m pip install git+https://github.com/nansencenter/DAPPER.git"
   ]
  },
  {
   "cell_type": "markdown",
   "id": "c119bb07",
   "metadata": {},
   "source": [
    "#### Imports"
   ]
  },
  {
   "cell_type": "code",
   "execution_count": null,
   "id": "90f4e4b2",
   "metadata": {},
   "outputs": [],
   "source": [
    "%matplotlib notebook\n",
    "from mpl_tools import is_notebook_or_qt as nb"
   ]
  },
  {
   "cell_type": "code",
   "execution_count": null,
   "id": "4dbc9be8",
   "metadata": {},
   "outputs": [],
   "source": [
    "import dapper as dpr\n",
    "import dapper.da_methods as da"
   ]
  },
  {
   "cell_type": "markdown",
   "id": "b0e1cd16",
   "metadata": {},
   "source": [
    "#### Load experiment setup: the hidden Markov model (HMM)"
   ]
  },
  {
   "cell_type": "code",
   "execution_count": null,
   "id": "c4cbc46e",
   "metadata": {},
   "outputs": [],
   "source": [
    "from dapper.mods.Lorenz63.sakov2012 import HMM  # isort:skip"
   ]
  },
  {
   "cell_type": "markdown",
   "id": "11728c55",
   "metadata": {},
   "source": [
    "#### Generate the same random numbers each time this script is run"
   ]
  },
  {
   "cell_type": "code",
   "execution_count": null,
   "id": "f36b6954",
   "metadata": {},
   "outputs": [],
   "source": [
    "seed = dpr.set_seed(3000)"
   ]
  },
  {
   "cell_type": "markdown",
   "id": "98a653f3",
   "metadata": {},
   "source": [
    "#### Simulate synthetic truth (xx) and noisy obs (yy)"
   ]
  },
  {
   "cell_type": "code",
   "execution_count": null,
   "id": "de7fab26",
   "metadata": {},
   "outputs": [],
   "source": [
    "HMM.t.T = 30  # shorten experiment\n",
    "xx, yy = HMM.simulate()"
   ]
  },
  {
   "cell_type": "markdown",
   "id": "54a51093",
   "metadata": {},
   "source": [
    "#### Specify a DA method configuration (\"xp\" for \"experiment\")"
   ]
  },
  {
   "cell_type": "code",
   "execution_count": null,
   "id": "770047ec",
   "metadata": {},
   "outputs": [],
   "source": [
    "xp = da.EnKF('Sqrt', N=10, infl=1.02, rot=True)\n",
    "# xp = da.Var3D()\n",
    "# xp = da.PartFilt(N=100, reg=2.4, NER=0.3)"
   ]
  },
  {
   "cell_type": "markdown",
   "id": "5489e846",
   "metadata": {},
   "source": [
    "#### Assimilate yy, knowing the HMM; xx is used to assess the performance"
   ]
  },
  {
   "cell_type": "code",
   "execution_count": null,
   "id": "7e8c1a47",
   "metadata": {},
   "outputs": [],
   "source": [
    "xp.assimilate(HMM, xx, yy, liveplots=not nb)"
   ]
  },
  {
   "cell_type": "markdown",
   "id": "d8a607d3",
   "metadata": {},
   "source": [
    "#### Average the time series of various statistics"
   ]
  },
  {
   "cell_type": "code",
   "execution_count": null,
   "id": "221ecd1f",
   "metadata": {},
   "outputs": [],
   "source": [
    "xp.stats.average_in_time()"
   ]
  },
  {
   "cell_type": "markdown",
   "id": "03b1bb24",
   "metadata": {},
   "source": [
    "#### Print some averages"
   ]
  },
  {
   "cell_type": "code",
   "execution_count": null,
   "id": "c932eba7",
   "metadata": {},
   "outputs": [],
   "source": [
    "print(xp.avrgs.tabulate(['rmse.a', 'rmv.a']))"
   ]
  },
  {
   "cell_type": "markdown",
   "id": "a0ab8cc3",
   "metadata": {},
   "source": [
    "#### Replay liveplotters"
   ]
  },
  {
   "cell_type": "code",
   "execution_count": null,
   "id": "d6bce850",
   "metadata": {},
   "outputs": [],
   "source": [
    "xp.stats.replay(\n",
    "    # speed=.6\n",
    ")"
   ]
  },
  {
   "cell_type": "markdown",
   "id": "48ef79cc",
   "metadata": {},
   "source": [
    "#### Further diagnostic plots"
   ]
  },
  {
   "cell_type": "code",
   "execution_count": null,
   "id": "affe0e48",
   "metadata": {},
   "outputs": [],
   "source": [
    "if nb:\n",
    "    import dapper.tools.viz as viz\n",
    "    viz.plot_rank_histogram(xp.stats)\n",
    "    viz.plot_err_components(xp.stats)\n",
    "    viz.plot_hovmoller(xx)"
   ]
  },
  {
   "cell_type": "markdown",
   "id": "93da49e0",
   "metadata": {},
   "source": [
    "#### Explore objects"
   ]
  },
  {
   "cell_type": "code",
   "execution_count": null,
   "id": "d4c08ac7",
   "metadata": {},
   "outputs": [],
   "source": [
    "if nb:\n",
    "    print(xp)"
   ]
  },
  {
   "cell_type": "code",
   "execution_count": null,
   "id": "6292211b",
   "metadata": {},
   "outputs": [],
   "source": [
    "if nb:\n",
    "    print(HMM)"
   ]
  },
  {
   "cell_type": "code",
   "execution_count": null,
   "id": "fb2ced76",
   "metadata": {},
   "outputs": [],
   "source": [
    "if nb:\n",
    "    # print(xp.stats) # quite long printout\n",
    "    print(xp.avrgs)"
   ]
  },
  {
   "cell_type": "markdown",
   "id": "71159b05",
   "metadata": {},
   "source": [
    "#### Excercise: Why does the replay look jagged?\n",
    "Hint: provide the keyword `store_u=True` to `assimilate()` to avoid this."
   ]
  },
  {
   "cell_type": "markdown",
   "id": "2331f743",
   "metadata": {},
   "source": [
    "#### Excercise: Why does the replay only contain the blue lines?"
   ]
  },
  {
   "cell_type": "markdown",
   "id": "53ddb565",
   "metadata": {},
   "source": [
    "#### Excercise: Try using\n",
    "- Optimal interpolation\n",
    "- The (extended) Kalman filter\n",
    "- The iterative EnKS\n",
    "\n",
    "Hint: suggested DA method settings are listed in the HMM files,\n",
    "like `dapper.mods.Lorenz63.sakov2012`."
   ]
  },
  {
   "cell_type": "markdown",
   "id": "49d14612",
   "metadata": {},
   "source": [
    "#### Excercise: Run an experiment for each of these models\n",
    "- LotkaVolterra\n",
    "- Lorenz96\n",
    "- LA\n",
    "- QG"
   ]
  }
 ],
 "metadata": {
  "jupytext": {
   "cell_metadata_filter": "-all",
   "formats": "auto:light,ipynb",
   "main_language": "python",
   "notebook_metadata_filter": "-all"
  },
  "kernelspec": {
   "display_name": "Python 3",
   "language": "python",
   "name": "python3"
  },
  "language_info": {
   "codemirror_mode": {
    "name": "ipython",
    "version": 3
   },
   "file_extension": ".py",
   "mimetype": "text/x-python",
   "name": "python",
   "nbconvert_exporter": "python",
   "pygments_lexer": "ipython3",
   "version": "3.7.10"
  }
 },
 "nbformat": 4,
 "nbformat_minor": 5
}
