{
 "cells": [
  {
   "cell_type": "code",
   "execution_count": null,
   "metadata": {},
   "outputs": [],
   "source": [
    "\"\"\"\n",
    "Illustrate usage of DAPPER to (interactively) run a synthetic (\"twin\") experiment.\n",
    "\"\"\""
   ]
  },
  {
   "cell_type": "code",
   "execution_count": null,
   "metadata": {},
   "outputs": [],
   "source": [
    "!pip install DA-DAPPER"
   ]
  },
  {
   "cell_type": "code",
   "execution_count": null,
   "metadata": {},
   "outputs": [],
   "source": [
    "import dapper as dpr\n",
    "import dapper.da_methods as da"
   ]
  },
  {
   "cell_type": "code",
   "execution_count": null,
   "metadata": {},
   "outputs": [],
   "source": [
    "# Load experiment setup: the hidden Markov model (HMM)\n",
    "from dapper.mods.Lorenz63.sakov2012 import HMM  # isort:skip"
   ]
  },
  {
   "cell_type": "code",
   "execution_count": null,
   "metadata": {},
   "outputs": [],
   "source": [
    "# Generate the same random numbers every time\n",
    "dpr.set_seed(3000)"
   ]
  },
  {
   "cell_type": "code",
   "execution_count": null,
   "metadata": {},
   "outputs": [],
   "source": [
    "HMM.t.T = 30  # shorten experiment"
   ]
  },
  {
   "cell_type": "code",
   "execution_count": null,
   "metadata": {},
   "outputs": [],
   "source": [
    "# Simulate synthetic truth (xx) and noisy obs (yy)\n",
    "xx, yy = HMM.simulate()"
   ]
  },
  {
   "cell_type": "code",
   "execution_count": null,
   "metadata": {},
   "outputs": [],
   "source": [
    "# Specify a DA method configuration (\"xp\" for \"experiment\")\n",
    "xp = da.EnKF('Sqrt', N=10, infl=1.02, rot=True)\n",
    "# xp = da.Var3D()\n",
    "# xp = da.PartFilt(N=100,reg=2.4,NER=0.3)"
   ]
  },
  {
   "cell_type": "code",
   "execution_count": null,
   "metadata": {},
   "outputs": [],
   "source": [
    "# Assimilate yy, knowing the HMM; xx is used to assess the performance\n",
    "xp.assimilate(HMM, xx, yy, liveplots=True)"
   ]
  },
  {
   "cell_type": "code",
   "execution_count": null,
   "metadata": {},
   "outputs": [],
   "source": [
    "# Average the time series of various statistics\n",
    "xp.stats.average_in_time()"
   ]
  },
  {
   "cell_type": "code",
   "execution_count": null,
   "metadata": {},
   "outputs": [],
   "source": [
    "# Print some averages\n",
    "print(xp.avrgs.tabulate(['rmse.a', 'rmv.a']))"
   ]
  },
  {
   "cell_type": "code",
   "execution_count": null,
   "metadata": {},
   "outputs": [],
   "source": [
    "# Replay liveplotters\n",
    "xp.stats.replay(speed=100)"
   ]
  },
  {
   "cell_type": "markdown",
   "metadata": {},
   "source": [
    "#### Further diagnostic plots"
   ]
  },
  {
   "cell_type": "code",
   "execution_count": null,
   "metadata": {},
   "outputs": [],
   "source": [
    "# import dapper.tools.viz as viz\n",
    "# viz.plot_rank_histogram(xp.stats)\n",
    "# viz.plot_err_components(xp.stats)\n",
    "# viz.plot_hovmoller(xx)"
   ]
  },
  {
   "cell_type": "markdown",
   "metadata": {},
   "source": [
    "#### Explore objects"
   ]
  },
  {
   "cell_type": "code",
   "execution_count": null,
   "metadata": {},
   "outputs": [],
   "source": [
    "# print(HMM)\n",
    "# print(xp)\n",
    "# print(xp.stats)\n",
    "# print(xp.avrgs)"
   ]
  },
  {
   "cell_type": "markdown",
   "metadata": {},
   "source": [
    "#### Excercise: Why does the replay look jagged?\n",
    "Hint: provide the keyword store_u=True to assimilate() to avoid this."
   ]
  },
  {
   "cell_type": "markdown",
   "metadata": {},
   "source": [
    "#### Excercise: Why does the replay only contain the blue lines?"
   ]
  },
  {
   "cell_type": "markdown",
   "metadata": {},
   "source": [
    "#### Excercise: Try using\n",
    "- Optimal interpolation\n",
    "- The (extended) Kalman filter\n",
    "- The iterative EnKS\n",
    "\n",
    "Hint: suggested DA xp's are listed in the HMM file"
   ]
  },
  {
   "cell_type": "markdown",
   "metadata": {},
   "source": [
    "#### Excercise: Run an experiment for each of these models\n",
    "- LotkaVolterra\n",
    "- Lorenz96\n",
    "- LA\n",
    "- QG"
   ]
  }
 ],
 "metadata": {
  "jupytext": {
   "cell_metadata_filter": "-all",
   "formats": "py:light,ipynb",
   "main_language": "python",
   "notebook_metadata_filter": "-all"
  },
  "kernelspec": {
   "display_name": "Python 3",
   "language": "python",
   "name": "python3"
  },
  "language_info": {
   "codemirror_mode": {
    "name": "ipython",
    "version": 3
   },
   "file_extension": ".py",
   "mimetype": "text/x-python",
   "name": "python",
   "nbconvert_exporter": "python",
   "pygments_lexer": "ipython3",
   "version": "3.9.1"
  }
 },
 "nbformat": 4,
 "nbformat_minor": 4
}
