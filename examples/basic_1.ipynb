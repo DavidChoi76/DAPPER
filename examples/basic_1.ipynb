{
 "cells": [
  {
   "cell_type": "markdown",
   "id": "d0cac6b8",
   "metadata": {},
   "source": [
    "## Illustrate usage of DAPPER to (interactively) run a synthetic (\"twin\") experiment."
   ]
  },
  {
   "cell_type": "markdown",
   "id": "3f3a5698",
   "metadata": {},
   "source": [
    "First we need to install DAPPER. This is only necessary on Google Colab."
   ]
  },
  {
   "cell_type": "code",
   "execution_count": null,
   "id": "4ed0a59a",
   "metadata": {},
   "outputs": [],
   "source": [
    "!python -m pip install git+https://github.com/nansencenter/DAPPER.git"
   ]
  },
  {
   "cell_type": "markdown",
   "id": "99aa330e",
   "metadata": {},
   "source": [
    "#### Imports"
   ]
  },
  {
   "cell_type": "code",
   "execution_count": null,
   "id": "2d22b562",
   "metadata": {},
   "outputs": [],
   "source": [
    "%matplotlib notebook\n",
    "from mpl_tools import is_notebook_or_qt as nb"
   ]
  },
  {
   "cell_type": "code",
   "execution_count": null,
   "id": "9c03d873",
   "metadata": {},
   "outputs": [],
   "source": [
    "import dapper as dpr\n",
    "import dapper.da_methods as da"
   ]
  },
  {
   "cell_type": "markdown",
   "id": "b518c8fd",
   "metadata": {},
   "source": [
    "#### Load experiment setup: the hidden Markov model (HMM)"
   ]
  },
  {
   "cell_type": "code",
   "execution_count": null,
   "id": "7c981e59",
   "metadata": {},
   "outputs": [],
   "source": [
    "from dapper.mods.Lorenz63.sakov2012 import HMM  # isort:skip"
   ]
  },
  {
   "cell_type": "markdown",
   "id": "f4985644",
   "metadata": {},
   "source": [
    "#### Generate the same random numbers each time this script is run"
   ]
  },
  {
   "cell_type": "code",
   "execution_count": null,
   "id": "8a32eae0",
   "metadata": {},
   "outputs": [],
   "source": [
    "seed = dpr.set_seed(3000)"
   ]
  },
  {
   "cell_type": "markdown",
   "id": "9d70dc87",
   "metadata": {},
   "source": [
    "#### Simulate synthetic truth (xx) and noisy obs (yy)"
   ]
  },
  {
   "cell_type": "code",
   "execution_count": null,
   "id": "65e2663f",
   "metadata": {},
   "outputs": [],
   "source": [
    "HMM.t.T = 30  # shorten experiment\n",
    "xx, yy = HMM.simulate()"
   ]
  },
  {
   "cell_type": "markdown",
   "id": "f8145d51",
   "metadata": {},
   "source": [
    "#### Specify a DA method configuration (\"xp\" for \"experiment\")"
   ]
  },
  {
   "cell_type": "code",
   "execution_count": null,
   "id": "5adb5735",
   "metadata": {},
   "outputs": [],
   "source": [
    "xp = da.EnKF('Sqrt', N=10, infl=1.02, rot=True)\n",
    "# xp = da.Var3D()\n",
    "# xp = da.PartFilt(N=100, reg=2.4, NER=0.3)"
   ]
  },
  {
   "cell_type": "markdown",
   "id": "d1a0b25c",
   "metadata": {},
   "source": [
    "#### Assimilate yy, knowing the HMM; xx is used to assess the performance"
   ]
  },
  {
   "cell_type": "code",
   "execution_count": null,
   "id": "b6ba3afa",
   "metadata": {},
   "outputs": [],
   "source": [
    "xp.assimilate(HMM, xx, yy, liveplots=not nb)"
   ]
  },
  {
   "cell_type": "markdown",
   "id": "29684548",
   "metadata": {},
   "source": [
    "#### Average the time series of various statistics"
   ]
  },
  {
   "cell_type": "code",
   "execution_count": null,
   "id": "4e24c2c3",
   "metadata": {},
   "outputs": [],
   "source": [
    "xp.stats.average_in_time()"
   ]
  },
  {
   "cell_type": "markdown",
   "id": "b4a0f572",
   "metadata": {},
   "source": [
    "#### Print some averages"
   ]
  },
  {
   "cell_type": "code",
   "execution_count": null,
   "id": "9134e605",
   "metadata": {},
   "outputs": [],
   "source": [
    "print(xp.avrgs.tabulate(['rmse.a', 'rmv.a']))"
   ]
  },
  {
   "cell_type": "markdown",
   "id": "5aec24f5",
   "metadata": {},
   "source": [
    "#### Replay liveplotters"
   ]
  },
  {
   "cell_type": "code",
   "execution_count": null,
   "id": "c6ce8346",
   "metadata": {},
   "outputs": [],
   "source": [
    "xp.stats.replay(\n",
    "    # speed=.6\n",
    ")"
   ]
  },
  {
   "cell_type": "markdown",
   "id": "21b73aab",
   "metadata": {},
   "source": [
    "#### Further diagnostic plots"
   ]
  },
  {
   "cell_type": "code",
   "execution_count": null,
   "id": "07c79696",
   "metadata": {},
   "outputs": [],
   "source": [
    "if nb:\n",
    "    import dapper.tools.viz as viz\n",
    "    viz.plot_rank_histogram(xp.stats)\n",
    "    viz.plot_err_components(xp.stats)\n",
    "    viz.plot_hovmoller(xx)"
   ]
  },
  {
   "cell_type": "markdown",
   "id": "cb80ad43",
   "metadata": {},
   "source": [
    "#### Explore objects"
   ]
  },
  {
   "cell_type": "code",
   "execution_count": null,
   "id": "8d2ab885",
   "metadata": {},
   "outputs": [],
   "source": [
    "if nb:\n",
    "    print(xp)"
   ]
  },
  {
   "cell_type": "code",
   "execution_count": null,
   "id": "175a196a",
   "metadata": {},
   "outputs": [],
   "source": [
    "if nb:\n",
    "    print(HMM)"
   ]
  },
  {
   "cell_type": "code",
   "execution_count": null,
   "id": "43bb0b54",
   "metadata": {},
   "outputs": [],
   "source": [
    "if nb:\n",
    "    # print(xp.stats) # quite long printout\n",
    "    print(xp.avrgs)"
   ]
  },
  {
   "cell_type": "markdown",
   "id": "fbc14fcd",
   "metadata": {},
   "source": [
    "#### Excercise: Why does the replay look jagged?\n",
    "Hint: provide the keyword `store_u=True` to `assimilate()` to avoid this."
   ]
  },
  {
   "cell_type": "markdown",
   "id": "33a2013d",
   "metadata": {},
   "source": [
    "#### Excercise: Why does the replay only contain the blue lines?"
   ]
  },
  {
   "cell_type": "markdown",
   "id": "433b35c5",
   "metadata": {},
   "source": [
    "#### Excercise: Try using\n",
    "- Optimal interpolation\n",
    "- The (extended) Kalman filter\n",
    "- The iterative EnKS\n",
    "\n",
    "Hint: suggested DA method settings are listed in the HMM files,\n",
    "like `dapper.mods.Lorenz63.sakov2012`."
   ]
  },
  {
   "cell_type": "markdown",
   "id": "2bfd6219",
   "metadata": {},
   "source": [
    "#### Excercise: Run an experiment for each of these models\n",
    "- LotkaVolterra\n",
    "- Lorenz96\n",
    "- LA\n",
    "- QG"
   ]
  }
 ],
 "metadata": {
  "jupytext": {
   "cell_metadata_filter": "-all",
   "formats": "auto:light,ipynb",
   "main_language": "python",
   "notebook_metadata_filter": "-all",
   "text_representation": {
    "extension": ".py",
    "format_name": "light"
   }
  },
  "kernelspec": {
   "display_name": "Python 3",
   "language": "python",
   "name": "python3"
  },
  "language_info": {
   "codemirror_mode": {
    "name": "ipython",
    "version": 3
   },
   "file_extension": ".py",
   "mimetype": "text/x-python",
   "name": "python",
   "nbconvert_exporter": "python",
   "pygments_lexer": "ipython3",
   "version": "3.7.10"
  }
 },
 "nbformat": 4,
 "nbformat_minor": 5
}
