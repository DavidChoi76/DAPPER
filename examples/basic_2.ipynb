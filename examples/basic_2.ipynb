{
 "cells": [
  {
   "cell_type": "code",
   "execution_count": null,
   "metadata": {},
   "outputs": [],
   "source": [
    "%matplotlib inline"
   ]
  },
  {
   "cell_type": "markdown",
   "metadata": {
    "cell_marker": "\"\"\""
   },
   "source": [
    "Illustrate usage of DAPPER to benchmark multiple DA methods."
   ]
  },
  {
   "cell_type": "markdown",
   "metadata": {},
   "source": [
    "### Imports"
   ]
  },
  {
   "cell_type": "code",
   "execution_count": null,
   "metadata": {},
   "outputs": [],
   "source": [
    "!pip install git+https://github.com/nansencenter/DAPPER.git\n",
    "\n",
    "import dapper as dpr\n",
    "import dapper.da_methods as da\n",
    "\n",
    "dpr.set_seed(3000)"
   ]
  },
  {
   "cell_type": "markdown",
   "metadata": {},
   "source": [
    "### DA method configurations"
   ]
  },
  {
   "cell_type": "code",
   "execution_count": null,
   "metadata": {},
   "outputs": [],
   "source": [
    "xps = dpr.xpList()\n",
    "\n",
    "from dapper.mods.Lorenz63.sakov2012 import HMM  # Expected rmse.a:\n",
    "\n",
    "xps += da.Climatology()                                      # 7.6\n",
    "xps += da.OptInterp()                                        # 1.25\n",
    "xps += da.Var3D(xB=0.1)                                      # 1.03\n",
    "xps += da.ExtKF(infl=90)                                     # 0.87\n",
    "xps += da.EnKF('Sqrt',    N=3,    infl=1.30)                 # 0.82\n",
    "xps += da.EnKF('Sqrt',    N=10,   infl=1.02, rot=True)       # 0.63\n",
    "xps += da.EnKF('PertObs', N=500,  infl=0.95, rot=False)      # 0.56\n",
    "xps += da.EnKF_N(         N=10,              rot=True)       # 0.54\n",
    "xps += da.iEnKS('Sqrt',   N=10,   infl=1.02, rot=True)       # 0.31\n",
    "xps += da.PartFilt(       N=100,  reg=2.4,   NER=0.3)        # 0.38\n",
    "xps += da.PartFilt(       N=800,  reg=0.9,   NER=0.2)        # 0.28\n",
    "# xps += da.PartFilt(       N=4000, reg=0.7  , NER=0.05)       # 0.27\n",
    "# xps += da.PFxN(xN=1000,   N=30  , Qs=2     , NER=0.2)        # 0.56\n",
    "\n",
    "# from dapper.mods.Lorenz96.sakov2008 import HMM   # Expected rmse.a:\n",
    "# xps += da.Climatology()                                     # 3.6\n",
    "# xps += da.OptInterp()                                       # 0.95\n",
    "# xps += da.Var3D(xB=0.02)                                    # 0.41\n",
    "# xps += da.ExtKF(infl=6)                                     # 0.24\n",
    "# xps += da.EnKF('PertObs', N=40, infl=1.06)                  # 0.22\n",
    "# xps += da.EnKF('Sqrt',    N=28, infl=1.02, rot=True)        # 0.18\n",
    "\n",
    "# xps += da.EnKF_N(         N=24, rot=True)                   # 0.21\n",
    "# xps += da.EnKF_N(         N=24, rot=True, xN=2)             # 0.18\n",
    "# xps += da.iEnKS('Sqrt',   N=40, infl=1.01, rot=True)        # 0.17\n",
    "\n",
    "# xps += da.LETKF(          N=7,  infl=1.04, rot=True, loc_rad=4)  # 0.22\n",
    "# xps += da.SL_EAKF(        N=7,  infl=1.07, rot=True, loc_rad=6)  # 0.23\n",
    "\n",
    "# Other models (suitable xp's listed in HMM files):\n",
    "# from dapper.mods.LA           .evensen2009 import HMM\n",
    "# from dapper.mods.KS           .bocquet2019 import HMM\n",
    "# from dapper.mods.LotkaVolterra.settings101 import HMM"
   ]
  },
  {
   "cell_type": "markdown",
   "metadata": {
    "lines_to_next_cell": 0
   },
   "source": [
    "### Run experiment\n",
    "Adjust experiment duration"
   ]
  },
  {
   "cell_type": "code",
   "execution_count": null,
   "metadata": {},
   "outputs": [],
   "source": [
    "HMM.t.BurnIn = 2\n",
    "HMM.t.T = 50\n",
    "\n",
    "# Assimilate (for each xp in xps)\n",
    "xps.launch(HMM, liveplots=False)\n",
    "\n",
    "# Print results\n",
    "print(xps.tabulate_avrgs())"
   ]
  }
 ],
 "metadata": {
  "jupytext": {
   "cell_metadata_filter": "-all",
   "formats": "py:sphinx,ipynb",
   "main_language": "python",
   "notebook_metadata_filter": "-all"
  },
  "kernelspec": {
   "display_name": "Python 3",
   "language": "python",
   "name": "python3"
  },
  "language_info": {
   "codemirror_mode": {
    "name": "ipython",
    "version": 3
   },
   "file_extension": ".py",
   "mimetype": "text/x-python",
   "name": "python",
   "nbconvert_exporter": "python",
   "pygments_lexer": "ipython3",
   "version": "3.9.1"
  }
 },
 "nbformat": 4,
 "nbformat_minor": 4
}
